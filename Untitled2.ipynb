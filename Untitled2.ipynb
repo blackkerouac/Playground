{
 "cells": [
  {
   "cell_type": "code",
   "execution_count": null,
   "metadata": {},
   "outputs": [],
   "source": [
    "# netflix_test.py\n",
    "\n",
    "# no import os due to it lives in the same folder as the code\n",
    "import csv\n",
    "import os"
   ]
  },
  {
   "cell_type": "code",
   "execution_count": null,
   "metadata": {},
   "outputs": [],
   "source": []
  },
  {
   "cell_type": "code",
   "execution_count": null,
   "metadata": {},
   "outputs": [],
   "source": [
    "#ask the user what they want\n",
    "user_choice = input(\"What movie are you looking for? \")"
   ]
  },
  {
   "cell_type": "code",
   "execution_count": 13,
   "metadata": {
    "scrolled": false
   },
   "outputs": [
    {
     "name": "stdout",
     "output_type": "stream",
     "text": [
      "What movie are you looking for? The Vampire Diaries\n",
      "The Vampire Diaries is rated TV-14 with a rating score of 91\n",
      "The Vampire Diaries is rated TV-14 with a rating score of 91\n",
      "The Vampire Diaries is rated TV-14 with a rating score of 91\n",
      "The Vampire Diaries is rated TV-14 with a rating score of 91\n",
      "The Vampire Diaries is rated TV-14 with a rating score of 91\n",
      "The Vampire Diaries is rated TV-14 with a rating score of 91\n"
     ]
    }
   ],
   "source": [
    "# tells python where the files lives\n",
    "netflix_filepath = os.path.join(\"..\", \"Playground\", \"netflix_ratings.csv\")\n",
    "\n",
    "\n",
    "\n",
    "# Opens csv and allows python to read the file\n",
    "with open(netflix_filepath, \"r\") as netflix_data:\n",
    "    reader = csv.reader(netflix_data)\n",
    "    next(reader) #skips the first line in the csv\n",
    "    #print(reader)\n",
    "    for row in reader:\n",
    "        movie_name = row[0]\n",
    "        rating = row[1]\n",
    "        rating_score = row[5]\n",
    "        if user_choice == row[0]:\n",
    "            print(f\"{movie_name} is rated {rating} with a rating score of {rating_score}\")\n",
    "    #else:\n",
    "         #print(\"Sorry we couldn't find your movie :(\")\n",
    "\n"
   ]
  }
 ],
 "metadata": {
  "kernelspec": {
   "display_name": "Python [conda env:PythonData] *",
   "language": "python",
   "name": "conda-env-PythonData-py"
  },
  "language_info": {
   "codemirror_mode": {
    "name": "ipython",
    "version": 3
   },
   "file_extension": ".py",
   "mimetype": "text/x-python",
   "name": "python",
   "nbconvert_exporter": "python",
   "pygments_lexer": "ipython3",
   "version": "3.6.8"
  }
 },
 "nbformat": 4,
 "nbformat_minor": 2
}
